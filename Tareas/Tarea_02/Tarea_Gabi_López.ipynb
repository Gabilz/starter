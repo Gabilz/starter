{
  "nbformat": 4,
  "nbformat_minor": 0,
  "metadata": {
    "colab": {
      "provenance": []
    },
    "kernelspec": {
      "name": "python3",
      "display_name": "Python 3"
    },
    "language_info": {
      "name": "python"
    }
  },
  "cells": [
    {
      "cell_type": "markdown",
      "source": [
        "Problema 1"
      ],
      "metadata": {
        "id": "CjlgZyUnGrCm"
      }
    },
    {
      "cell_type": "code",
      "source": [
        "for i in range(1, 101):\n",
        " print(i)\n"
      ],
      "metadata": {
        "colab": {
          "base_uri": "https://localhost:8080/"
        },
        "id": "hEMJ6esA_vWJ",
        "outputId": "0489e86d-c5ab-4687-8a02-54e84cef7286"
      },
      "execution_count": 3,
      "outputs": [
        {
          "output_type": "stream",
          "name": "stdout",
          "text": [
            "1\n",
            "2\n",
            "3\n",
            "4\n",
            "5\n",
            "6\n",
            "7\n",
            "8\n",
            "9\n",
            "10\n",
            "11\n",
            "12\n",
            "13\n",
            "14\n",
            "15\n",
            "16\n",
            "17\n",
            "18\n",
            "19\n",
            "20\n",
            "21\n",
            "22\n",
            "23\n",
            "24\n",
            "25\n",
            "26\n",
            "27\n",
            "28\n",
            "29\n",
            "30\n",
            "31\n",
            "32\n",
            "33\n",
            "34\n",
            "35\n",
            "36\n",
            "37\n",
            "38\n",
            "39\n",
            "40\n",
            "41\n",
            "42\n",
            "43\n",
            "44\n",
            "45\n",
            "46\n",
            "47\n",
            "48\n",
            "49\n",
            "50\n",
            "51\n",
            "52\n",
            "53\n",
            "54\n",
            "55\n",
            "56\n",
            "57\n",
            "58\n",
            "59\n",
            "60\n",
            "61\n",
            "62\n",
            "63\n",
            "64\n",
            "65\n",
            "66\n",
            "67\n",
            "68\n",
            "69\n",
            "70\n",
            "71\n",
            "72\n",
            "73\n",
            "74\n",
            "75\n",
            "76\n",
            "77\n",
            "78\n",
            "79\n",
            "80\n",
            "81\n",
            "82\n",
            "83\n",
            "84\n",
            "85\n",
            "86\n",
            "87\n",
            "88\n",
            "89\n",
            "90\n",
            "91\n",
            "92\n",
            "93\n",
            "94\n",
            "95\n",
            "96\n",
            "97\n",
            "98\n",
            "99\n",
            "100\n"
          ]
        }
      ]
    },
    {
      "cell_type": "markdown",
      "source": [
        "Problema 2"
      ],
      "metadata": {
        "id": "95tzQTxdGx6L"
      }
    },
    {
      "cell_type": "code",
      "source": [
        "for i in range(1, 101):\n",
        " if i % 3 == 0\n",
        "   print(i)\n",
        "\n"
      ],
      "metadata": {
        "id": "gIoh6R61AOkA"
      },
      "execution_count": null,
      "outputs": []
    },
    {
      "cell_type": "markdown",
      "source": [
        "Problema 3"
      ],
      "metadata": {
        "id": "wprpxBgSG0Od"
      }
    },
    {
      "cell_type": "code",
      "source": [
        "numero1= 55\n",
        "numero2= 61\n",
        "\n",
        "suma= numero1 + numero2\n",
        "\n",
        "if suma < 100:\n",
        "    resultado = \"es menor a 100\"\n",
        "elif suma > 100 and suma < 150:\n",
        "    resultado = \"es mayor a 100 y menor a 150\"\n",
        "else:\n",
        "    resultado = \"es mayor a 150\"\n",
        "\n",
        "print(resultado)\n",
        "\n"
      ],
      "metadata": {
        "id": "sr1BLac3A54R"
      },
      "execution_count": null,
      "outputs": []
    },
    {
      "cell_type": "markdown",
      "source": [
        "Problema 4"
      ],
      "metadata": {
        "id": "c5SE1gTrG2Zr"
      }
    },
    {
      "cell_type": "code",
      "source": [
        "\n",
        "def evaluar_usuario():\n",
        "\n",
        "    edad = int(input(\"¿Cuántos años tienes?: \"))\n",
        "    gusta_deporte = input(\"¿Te gusta el deporte? (sí/no): \").lower()\n",
        "\n",
        "    if edad >= 18 and gusta_deporte == \"sí\":\n",
        "        mensaje = \"Eres mayor de edad y te gusta el deporte.\"\n",
        "    elif edad >= 18 and gusta_deporte == \"no\":\n",
        "        mensaje = \"Eres mayor de edad, pero no te gusta el deporte.\"\n",
        "    elif edad < 18 and gusta_deporte == \"sí\":\n",
        "        mensaje = \"Eres menor de edad y te gusta el deporte.\"\n",
        "    else:\n",
        "        mensaje = \"Eres menor de edad y no te gusta el deporte.\"\n",
        "\n",
        "\n",
        "    print(mensaje)\n",
        "\n",
        "evaluar_usuario()\n",
        "\n"
      ],
      "metadata": {
        "colab": {
          "base_uri": "https://localhost:8080/"
        },
        "id": "_rFnfMCqCtD9",
        "outputId": "92b9c488-cbd4-4ef9-d592-2c6d3f16c79d"
      },
      "execution_count": 11,
      "outputs": [
        {
          "output_type": "stream",
          "name": "stdout",
          "text": [
            "¿Cuántos años tienes?: 21\n",
            "¿Te gusta el deporte? (sí/no): sí\n",
            "Eres mayor de edad y te gusta el deporte.\n"
          ]
        }
      ]
    }
  ]
}